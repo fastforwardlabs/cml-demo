{
 "cells": [
  {
   "cell_type": "code",
   "execution_count": 45,
   "metadata": {},
   "outputs": [
    {
     "name": "stdout",
     "output_type": "stream",
     "text": [
      "Data already downloaded: /tmp/imagenet/inception-2015-12-05.tgz os.stat_result(st_mode=33188, st_ino=52736606, st_dev=1048713, st_nlink=1, st_uid=8536, st_gid=8536, st_size=88931400, st_atime=1570099843, st_mtime=1570099843, st_ctime=1570099843)\n"
     ]
    }
   ],
   "source": [
    "# Tensorflow on Spark\n",
    "#\n",
    "# Before running:\n",
    "# pip install -r /home/cdsw/utils/requirements3.txt\n",
    "# close session, start a new session in the same project\n",
    "\n",
    "MODEL_URL = 'http://download.tensorflow.org/models/image/imagenet/inception-2015-12-05.tgz'\n",
    "MODEL_DIR = '/tmp/imagenet'\n",
    "IMAGE_DIR = 's3://ml-field/demo/tensorflow/data'\n",
    "IMAGES_INDEX_URL = 'https://gist.githubusercontent.com/tnachen/ef2a343c12811a4c0dbe01d76653e37e/raw/937faec9062b9f1ecb279a0985fe15f1d6e3afec/'\n",
    "\n",
    "# Number of images per batch.\n",
    "# 1 batch corresponds to 1 RDD row.\n",
    "image_batch_size = 4\n",
    "\n",
    "num_top_predictions = 5\n",
    "\n",
    "import numpy as np\n",
    "import random\n",
    "import tensorflow as tf\n",
    "import os\n",
    "from tensorflow.python.platform import gfile\n",
    "import os.path\n",
    "import re\n",
    "import sys\n",
    "import tarfile\n",
    "from pyspark.sql import SparkSession\n",
    "from subprocess import Popen, PIPE, STDOUT\n",
    "\n",
    "def maybe_download_and_extract():\n",
    "  \"\"\"Download and extract model tar file.\"\"\"\n",
    "  from six.moves import urllib\n",
    "  dest_directory = MODEL_DIR\n",
    "  if not os.path.exists(dest_directory):\n",
    "    os.makedirs(dest_directory)\n",
    "  filename = MODEL_URL.split('/')[-1]\n",
    "  filepath = os.path.join(dest_directory, filename)\n",
    "  if not os.path.exists(filepath):\n",
    "    filepath2, _ = urllib.request.urlretrieve(MODEL_URL, filepath)\n",
    "    print(\"filepath2\", filepath2)\n",
    "    statinfo = os.stat(filepath)\n",
    "    print('Succesfully downloaded', filename, statinfo.st_size, 'bytes.')\n",
    "    tarfile.open(filepath, 'r:gz').extractall(dest_directory)\n",
    "  else:\n",
    "    print('Data already downloaded:', filepath, os.stat(filepath))\n",
    "\n",
    "maybe_download_and_extract()\n",
    "\n",
    "model_path = os.path.join(MODEL_DIR, 'classify_image_graph_def.pb')\n",
    "with tf.gfile.GFile(model_path, 'rb') as f: \n",
    "#with gfile.FastGFile(model_path, 'rb') as f:\n",
    "  model_data = f.read()\n"
   ]
  },
  {
   "cell_type": "code",
   "execution_count": 46,
   "metadata": {},
   "outputs": [
    {
     "data": {
      "text/html": [
       "<a href=\"http://spark-0esny6z0lr209s95.ml-58124434-405.cdptrial.e6xo-a44u.cloudera.site\">Spark UI</a>"
      ],
      "text/plain": [
       "<IPython.core.display.HTML object>"
      ]
     },
     "metadata": {},
     "output_type": "display_data"
    }
   ],
   "source": [
    "\n",
    "sc = SparkSession\\\n",
    "    .builder\\\n",
    "    .appName(\"S3 Image Scoring\")\\\n",
    "    .config(\"spark.executor.memory\", \"4g\")\\\n",
    "    .config(\"spark.executor.instances\", 2)\\\n",
    "    .config(\"spark.hadoop.fs.s3a.aws.credentials.provider\",\"org.apache.hadoop.fs.s3a.AnonymousAWSCredentialsProvider\")\\\n",
    "    .config(\"spark.hadoop.fs.s3a.impl\",\"org.apache.hadoop.fs.s3a.S3AFileSystem\")\\\n",
    "    .config(\"spark.hadoop.fs.s3a.connection.ssl.enabled\",\"true\")\\\n",
    "    .config(\"spark.hadoop.com.amazonaws.services.s3a.enableV4\",\"true\")\\\n",
    "    .getOrCreate()._sc\n",
    "    \n",
    "from IPython.core.display import HTML\n",
    "from IPython.core.display import display\n",
    "display(HTML('<a href=\"http://spark-{}.{}\">Spark UI</a>'.format(os.getenv(\"CDSW_ENGINE_ID\"),os.getenv(\"CDSW_DOMAIN\"))))\n",
    "\n",
    "#display(HTML(\"<script src='https://d3js.org/d3.v5.min.js'></script>\"))\n",
    "\n",
    "model_data_bc = sc.broadcast(model_data)\n"
   ]
  },
  {
   "cell_type": "code",
   "execution_count": 47,
   "metadata": {},
   "outputs": [],
   "source": [
    "class NodeLookup(object):\n",
    "  \"\"\"Converts integer node IDs to human readable labels.\"\"\"\n",
    "\n",
    "  def __init__(self,\n",
    "               label_lookup_path=None,\n",
    "               uid_lookup_path=None):\n",
    "    if not label_lookup_path:\n",
    "      label_lookup_path = os.path.join(\n",
    "          MODEL_DIR, 'imagenet_2012_challenge_label_map_proto.pbtxt')\n",
    "    if not uid_lookup_path:\n",
    "      uid_lookup_path = os.path.join(\n",
    "          MODEL_DIR, 'imagenet_synset_to_human_label_map.txt')\n",
    "    self.node_lookup = self.load(label_lookup_path, uid_lookup_path)\n",
    "\n",
    "  def load(self, label_lookup_path, uid_lookup_path):\n",
    "    \"\"\"Loads a human readable English name for each softmax node.\n",
    "\n",
    "    Args:\n",
    "      label_lookup_path: string UID to integer node ID.\n",
    "      uid_lookup_path: string UID to human-readable string.\n",
    "\n",
    "    Returns:\n",
    "      dict from integer node ID to human-readable string.\n",
    "    \"\"\"\n",
    "    if not gfile.Exists(uid_lookup_path):\n",
    "      tf.logging.fatal('File does not exist %s', uid_lookup_path)\n",
    "    if not gfile.Exists(label_lookup_path):\n",
    "      tf.logging.fatal('File does not exist %s', label_lookup_path)\n",
    "\n",
    "    # Loads mapping from string UID to human-readable string\n",
    "    proto_as_ascii_lines = gfile.GFile(uid_lookup_path).readlines()\n",
    "    uid_to_human = {}\n",
    "    p = re.compile(r'[n\\d]*[ \\S,]*')\n",
    "    for line in proto_as_ascii_lines:\n",
    "      parsed_items = p.findall(line)\n",
    "      uid = parsed_items[0]\n",
    "      human_string = parsed_items[2]\n",
    "      uid_to_human[uid] = human_string\n",
    "\n",
    "    # Loads mapping from string UID to integer node ID.\n",
    "    node_id_to_uid = {}\n",
    "    proto_as_ascii = gfile.GFile(label_lookup_path).readlines()\n",
    "    for line in proto_as_ascii:\n",
    "      if line.startswith('  target_class:'):\n",
    "        target_class = int(line.split(': ')[1])\n",
    "      if line.startswith('  target_class_string:'):\n",
    "        target_class_string = line.split(': ')[1]\n",
    "        node_id_to_uid[target_class] = target_class_string[1:-2]\n",
    "\n",
    "    # Loads the final mapping of integer node ID to human-readable string\n",
    "    node_id_to_name = {}\n",
    "    for key, val in node_id_to_uid.items():\n",
    "      if val not in uid_to_human:\n",
    "        tf.logging.fatal('Failed to locate: %s', val)\n",
    "      name = uid_to_human[val]\n",
    "      node_id_to_name[key] = name\n",
    "\n",
    "    return node_id_to_name\n",
    "\n",
    "  def id_to_string(self, node_id):\n",
    "    if node_id not in self.node_lookup:\n",
    "      return ''\n",
    "    return self.node_lookup[node_id]\n",
    "\n",
    "node_lookup = NodeLookup().node_lookup\n",
    "# Broadcast node lookup table to use on Spark workers\n",
    "node_lookup_bc = sc.broadcast(node_lookup)\n"
   ]
  },
  {
   "cell_type": "code",
   "execution_count": 48,
   "metadata": {},
   "outputs": [],
   "source": [
    "def run(cmd):\n",
    "  p = Popen(cmd, shell=True, stdin=PIPE, stdout=PIPE, stderr=STDOUT, close_fds=True)\n",
    "  return p.stdout.read()\n",
    "\n",
    "\n",
    "#build image index from S3 bucket list\n",
    "#assuming img_dir is something like 's3://ml-field/demo/tensorflow/data'\n",
    "def read_file_index_s3(img_dir):\n",
    "  import boto3\n",
    "  from botocore.handlers import disable_signing\n",
    "  #import s3fs\n",
    "  \n",
    "  s3 = boto3.resource('s3')\n",
    "  s3.meta.client.meta.events.register('choose-signer.s3.*', disable_signing)\n",
    "  \n",
    "  if img_dir.split('/')[0] == 's3:': \n",
    "    bucket_name = img_dir.split('/')[2]\n",
    "    bucket = s3.Bucket(bucket_name)\n",
    "    prefix = '/'.join(img_dir.split('/')[3:]) + '/'\n",
    "  else: \n",
    "    print(\"img_dir is not an S3 URL\")\n",
    "    exit()\n",
    "  \n",
    "  input_data = []\n",
    "  ## List objects within a given prefix\n",
    "  for obj in bucket.objects.filter(Delimiter='/', Prefix=prefix):\n",
    "    file_name = os.path.basename(obj.key)\n",
    "    #input_data.append((file_name, 's3a://' + bucket_name + '/' + obj.key))\n",
    "    input_data.append((file_name, 'https://' + bucket_name + '.s3-us-west-2.amazonaws.com/' + obj.key))\n",
    "    #https://ml-field.s3-us-west-2.amazonaws.com/demo/tensorflow/data/2737866473_7958dc8760.jpg\n",
    "    \"\"\"Return the list without the directory name\"\"\"\n",
    "    \"\"\"Should do some checking to make sure its actually a JPG\"\"\"\n",
    "  input_data = input_data[1:]\n",
    "  return [input_data[i:i+image_batch_size] for i in range(0,len(input_data), image_batch_size)]\n",
    "\n",
    "batched_data = read_file_index_s3(IMAGE_DIR)\n"
   ]
  },
  {
   "cell_type": "code",
   "execution_count": 49,
   "metadata": {},
   "outputs": [],
   "source": [
    "def read_file_index():\n",
    "  from six.moves import urllib\n",
    "  content = urllib.request.urlopen(IMAGES_INDEX_URL)\n",
    "  data = content.read()\n",
    "  lines = [l for l in data.split(b'\\n') if l != \"\"]\n",
    "  input_data = [tuple(elts.split()) for elts in lines]\n",
    "  return [input_data[i:i+image_batch_size] for i in range(0,len(input_data), image_batch_size)]\n",
    "\n",
    "#batched_data = read_file_index()\n",
    "#print \"There are %d batches\" % len(batched_data)\n",
    "\n",
    "def run_inference_on_image(sess, img_id, img_url, node_lookup):\n",
    "  \"\"\"Download an image, and run inference on it.\n",
    "\n",
    "  Args:\n",
    "    image: Image file URL\n",
    "\n",
    "  Returns:\n",
    "    (image ID, image URL, scores),\n",
    "    where scores is a list of (human-readable node names, score) pairs\n",
    "  \"\"\"\n",
    "  from six.moves import urllib\n",
    "  #from urllib2 import HTTPError\n",
    "  try:\n",
    "    image_data = urllib.request.urlopen(img_url, timeout=1.0).read()\n",
    "  except:\n",
    "    return (img_id, img_url, None)\n",
    "  # Some useful tensors:\n",
    "  # 'softmax:0': A tensor containing the normalized prediction across\n",
    "  #   1000 labels.\n",
    "  # 'pool_3:0': A tensor containing the next-to-last layer containing 2048\n",
    "  #   float description of the image.\n",
    "  # 'DecodeJpeg/contents:0': A tensor containing a string providing JPEG\n",
    "  #   encoding of the image.\n",
    "  # Runs the softmax tensor by feeding the image_data as input to the graph.\n",
    "  softmax_tensor = sess.graph.get_tensor_by_name('softmax:0')\n",
    "  try:\n",
    "    predictions = sess.run(softmax_tensor,\n",
    "                           {'DecodeJpeg/contents:0': image_data})\n",
    "  except:\n",
    "    # Handle problems with malformed JPEG files\n",
    "    return (img_id, img_url, None)\n",
    "  predictions = np.squeeze(predictions)\n",
    "  top_k = predictions.argsort()[-num_top_predictions:][::-1]\n",
    "  scores = []\n",
    "  for node_id in top_k:\n",
    "    if node_id not in node_lookup:\n",
    "      human_string = ''\n",
    "    else:\n",
    "      human_string = node_lookup[node_id]\n",
    "    score = predictions[node_id]\n",
    "    scores.append((human_string, score))\n",
    "  return (img_id, img_url, scores)\n",
    "\n",
    "def apply_inference_on_batch(batch):\n",
    "  \"\"\"Apply inference to a batch of images.\n",
    "\n",
    "  We do not explicitly tell TensorFlow to use a GPU.\n",
    "  It is able to choose between CPU and GPU based on its guess of which will be faster.\n",
    "  \"\"\"\n",
    "  with tf.Graph().as_default() as g:\n",
    "    graph_def = tf.GraphDef()\n",
    "    graph_def.ParseFromString(model_data_bc.value)\n",
    "    print(\"Graph def done\")\n",
    "    tf.import_graph_def(graph_def, name='')\n",
    "    with tf.Session() as sess:\n",
    "      print(batch)\n",
    "      labeled = [run_inference_on_image(sess, img_id, img_url, node_lookup_bc.value) for (img_id, img_url) in batch]\n",
    "      print(labeled)\n",
    "      return [tup for tup in labeled if tup[2] is not None]\n",
    "\n",
    "urls = sc.parallelize(batched_data)\n",
    "labeled_images = urls.flatMap(apply_inference_on_batch)\n",
    "\n"
   ]
  },
  {
   "cell_type": "code",
   "execution_count": 50,
   "metadata": {},
   "outputs": [],
   "source": [
    "local_labeled_images = labeled_images.collect()\n",
    "\n",
    "#sc.stop()\n"
   ]
  },
  {
   "cell_type": "code",
   "execution_count": 51,
   "metadata": {},
   "outputs": [
    {
     "data": {
      "text/html": [
       "<img src=\"https://ml-field.s3-us-west-2.amazonaws.com/demo/tensorflow/data/IMG_3587.JPG\"/>"
      ],
      "text/plain": [
       "<IPython.core.display.Image object>"
      ]
     },
     "execution_count": 51,
     "metadata": {},
     "output_type": "execute_result"
    }
   ],
   "source": [
    "#local_image = random.choice(local_labeled_images)\n",
    "from IPython.display import Image\n",
    "from IPython.core.display import HTML\n",
    "Image(url=local_labeled_images[11][1])"
   ]
  },
  {
   "cell_type": "code",
   "execution_count": 52,
   "metadata": {},
   "outputs": [
    {
     "name": "stdout",
     "output_type": "stream",
     "text": [
      "[('motor scooter, scooter', 0.32234904), ('crash helmet', 0.28431216), ('moped', 0.19474602), ('disk brake, disc brake', 0.008686119), ('Model T', 0.004578756)]\n"
     ]
    }
   ],
   "source": [
    "print(local_labeled_images[11][2])"
   ]
  },
  {
   "cell_type": "code",
   "execution_count": 53,
   "metadata": {},
   "outputs": [
    {
     "data": {
      "text/plain": [
       "[['https://ml-field.s3-us-west-2.amazonaws.com/demo/tensorflow/data/139488995_bd06578562.jpg',\n",
       "  'https://ml-field.s3-us-west-2.amazonaws.com/demo/tensorflow/data/2658605078_f409b25597.jpg',\n",
       "  'https://ml-field.s3-us-west-2.amazonaws.com/demo/tensorflow/data/2737866473_7958dc8760.jpg',\n",
       "  'https://ml-field.s3-us-west-2.amazonaws.com/demo/tensorflow/data/2809605169_8efe2b8f27.jpg',\n",
       "  'https://ml-field.s3-us-west-2.amazonaws.com/demo/tensorflow/data/2875184020_9944005d0d.jpg',\n",
       "  'https://ml-field.s3-us-west-2.amazonaws.com/demo/tensorflow/data/2960028736_74d31b947d.jpg',\n",
       "  'https://ml-field.s3-us-west-2.amazonaws.com/demo/tensorflow/data/3198142470_6eb0be5f32.jpg',\n",
       "  'https://ml-field.s3-us-west-2.amazonaws.com/demo/tensorflow/data/4051378654_238ca94313.jpg',\n",
       "  'https://ml-field.s3-us-west-2.amazonaws.com/demo/tensorflow/data/4094333885_e8462a8338.jpg',\n",
       "  'https://ml-field.s3-us-west-2.amazonaws.com/demo/tensorflow/data/IMG_1966.JPG',\n",
       "  'https://ml-field.s3-us-west-2.amazonaws.com/demo/tensorflow/data/IMG_2390.JPG',\n",
       "  'https://ml-field.s3-us-west-2.amazonaws.com/demo/tensorflow/data/IMG_3587.JPG',\n",
       "  'https://ml-field.s3-us-west-2.amazonaws.com/demo/tensorflow/data/IMG_4449.PNG',\n",
       "  'https://ml-field.s3-us-west-2.amazonaws.com/demo/tensorflow/data/IMG_4574.jpg',\n",
       "  'https://ml-field.s3-us-west-2.amazonaws.com/demo/tensorflow/data/IMG_4683.jpg',\n",
       "  'https://ml-field.s3-us-west-2.amazonaws.com/demo/tensorflow/data/bARADEI.jpg',\n",
       "  'https://ml-field.s3-us-west-2.amazonaws.com/demo/tensorflow/data/hannah.jpg'],\n",
       " [('platypus, duckbill, duckbilled platypus, duck-billed platypus, Ornithorhynchus anatinus',\n",
       "   0.2348881),\n",
       "  ('coral reef', 0.5244159),\n",
       "  ('Band Aid', 0.1066495),\n",
       "  ('tiger cat', 0.14697672),\n",
       "  ('bathtub, bathing tub, bath, tub', 0.25854883),\n",
       "  ('sea lion', 0.25774232),\n",
       "  ('howler monkey, howler', 0.25775522),\n",
       "  ('robin, American robin, Turdus migratorius', 0.5494985),\n",
       "  ('orangutan, orang, orangutang, Pongo pygmaeus', 0.69150543),\n",
       "  ('cliff, drop, drop-off', 0.24877885),\n",
       "  ('motor scooter, scooter', 0.7164094),\n",
       "  ('motor scooter, scooter', 0.32234904),\n",
       "  ('web site, website, internet site, site', 0.9312042),\n",
       "  ('moped', 0.08407353),\n",
       "  ('motor scooter, scooter', 0.80676854),\n",
       "  ('Windsor tie', 0.46046066),\n",
       "  ('wreck', 0.42330307)]]"
      ]
     },
     "execution_count": 53,
     "metadata": {},
     "output_type": "execute_result"
    }
   ],
   "source": [
    "[[i[1] for i in local_labeled_images], [i[2][0] for i in local_labeled_images]]"
   ]
  },
  {
   "cell_type": "code",
   "execution_count": null,
   "metadata": {},
   "outputs": [],
   "source": [
    "#!jupyter nbconvert --to PYTHON TF_image_score.ipynb"
   ]
  }
 ],
 "metadata": {
  "kernelspec": {
   "display_name": "Python 3",
   "language": "python",
   "name": "python3"
  },
  "language_info": {
   "codemirror_mode": {
    "name": "ipython",
    "version": 3
   },
   "file_extension": ".py",
   "mimetype": "text/x-python",
   "name": "python",
   "nbconvert_exporter": "python",
   "pygments_lexer": "ipython3",
   "version": "3.6.8"
  }
 },
 "nbformat": 4,
 "nbformat_minor": 2
}
