{
 "cells": [
  {
   "cell_type": "code",
   "execution_count": 2,
   "metadata": {},
   "outputs": [],
   "source": [
    "import pandas as pd\n",
    "import torch\n",
    "import torch.nn as nn\n",
    "import pickle\n",
    "import sys\n",
    "import cdsw\n",
    "import s3fs\n",
    "from torchtext import data\n",
    "from sklearn.model_selection import train_test_split\n",
    "\n",
    "data_dir = '/home/cdsw/demo2/data/'\n",
    "s3_bucket_name = 'ml-field'\n",
    "s3_file_name = '/demo/airline-sentiment/data/Tweets.csv'\n",
    "s3_data_file = 's3a://ml-field/demo/airline-sentiment/data/Tweets.csv'\n",
    "model_dir = '/home/cdsw/demo2/model/'\n",
    "\n",
    "sentiments = pd.read_csv(s3_data_file)\n",
    "\n"
   ]
  },
  {
   "cell_type": "code",
   "execution_count": 3,
   "metadata": {},
   "outputs": [],
   "source": [
    "clean_df = sentiments[sentiments['text'].notnull() &\n",
    "                      sentiments['airline'].notnull() &\n",
    "                      sentiments['airline_sentiment'].notnull() &\n",
    "                      sentiments['tweet_id'].notnull()]\n"
   ]
  },
  {
   "cell_type": "code",
   "execution_count": 4,
   "metadata": {},
   "outputs": [],
   "source": [
    "# use only tweet(text), airline, label (airline_sentiment) and tweet id\n",
    "final_df = clean_df.filter(['tweet_id', 'text', 'airline',\n",
    "                           'airline_sentiment'], axis=1)\n"
   ]
  },
  {
   "cell_type": "code",
   "execution_count": 5,
   "metadata": {},
   "outputs": [],
   "source": [
    "# use only positive and negative sentiment\n",
    "row_vals = ['positive', 'negative']\n",
    "final_df = final_df.loc[final_df['airline_sentiment'].isin(row_vals)]\n",
    "# use Delta only (this should be a toggle)\n",
    "# final_df = final_df[final_df['airline'] == 'Delta']"
   ]
  },
  {
   "cell_type": "code",
   "execution_count": 6,
   "metadata": {},
   "outputs": [],
   "source": [
    "# convert neutral, positive and negative to numeric\n",
    "# sentiment_map = {'neutral': 0, 'positive': 1, 'negative': -1} \n",
    "# final_df['airline_sentiment'] = final_df['airline_sentiment'].map(sentiment_map)\n",
    "# split into train, test, val (.7, .15, .15)\n",
    "train_df, testval_df = train_test_split(final_df, test_size=0.3)\n",
    "test_df, val_df = train_test_split(testval_df, test_size=0.5)\n",
    "\n",
    "# convert df back to csv, with column names\n",
    "train_df.to_csv(data_dir+'/train.csv', index=False)\n",
    "test_df.to_csv(data_dir+'/test.csv', index=False)\n",
    "val_df.to_csv(data_dir+'/val.csv', index=False)"
   ]
  },
  {
   "cell_type": "code",
   "execution_count": 7,
   "metadata": {},
   "outputs": [],
   "source": [
    "# load into torchtext\n",
    "ID = data.Field()\n",
    "TEXT = data.Field(tokenize='spacy')\n",
    "SENTIMENT = data.LabelField(dtype=torch.float)\n",
    "AIRLINE = data.Field()\n",
    "\n",
    "# access using batch.id, batch.text etc\n",
    "fields = [('id', ID), ('text', TEXT), ('airline', AIRLINE), ('label', SENTIMENT)]\n",
    "train_data, valid_data, test_data = data.TabularDataset.splits(path=data_dir,\n",
    "                                                               train='train.csv',\n",
    "                                                               validation='val.csv',\n",
    "                                                               test='test.csv',\n",
    "                                                               format='csv',\n",
    "                                                               fields=fields,\n",
    "                                                               skip_header=True)\n"
   ]
  },
  {
   "cell_type": "code",
   "execution_count": 8,
   "metadata": {},
   "outputs": [
    {
     "name": "stderr",
     "output_type": "stream",
     "text": [
      "100%|█████████▉| 1191021/1193514 [00:48<00:00, 25369.84it/s]"
     ]
    },
    {
     "name": "stdout",
     "output_type": "stream",
     "text": [
      "[('.', 8180), ('to', 4833), ('I', 3550), ('the', 3384), ('!', 3214), ('a', 2533), (',', 2356), ('for', 2333), ('?', 2252), ('you', 2214), ('and', 2161), ('@united', 2148), ('on', 2131), ('#', 2069), ('flight', 1906), ('my', 1789), ('@USAirways', 1740), ('@AmericanAir', 1680), ('is', 1634), ('in', 1416)]\n",
      "defaultdict(<function _default_unk_index at 0x7f2acfe13730>, {'negative': 0, 'positive': 1})\n"
     ]
    },
    {
     "name": "stderr",
     "output_type": "stream",
     "text": [
      "\r",
      "100%|█████████▉| 1191021/1193514 [01:00<00:00, 25369.84it/s]"
     ]
    }
   ],
   "source": [
    "# build iterators\n",
    "MAX_VOCAB_SIZE = 10_000\n",
    "\n",
    "ID.build_vocab(train_data)\n",
    "# TEXT.build_vocab(train_data, max_size=MAX_VOCAB_SIZE)\n",
    "TEXT.build_vocab(train_data,\n",
    "                 max_size=MAX_VOCAB_SIZE,\n",
    "                 vectors=\"glove.twitter.27B.25d\",\n",
    "                 unk_init=torch.Tensor.normal_)\n",
    "SENTIMENT.build_vocab(train_data)\n",
    "AIRLINE.build_vocab(train_data)\n",
    "\n",
    "print(TEXT.vocab.freqs.most_common(20))\n",
    "# save this - need for model prediction\n",
    "outfile = open(model_dir+'vocab_index.pkl', 'wb')\n",
    "pickle.dump(TEXT.vocab.stoi, outfile, -1)\n",
    "outfile.close()\n",
    "cdsw.track_file(model_dir+'vocab_index.pkl')\n",
    "\n",
    "# check labels, 0 is negative, 1 is positive\n",
    "print(SENTIMENT.vocab.stoi)"
   ]
  },
  {
   "cell_type": "code",
   "execution_count": 9,
   "metadata": {},
   "outputs": [],
   "source": [
    "device = torch.device('cuda' if torch.cuda.is_available() else 'cpu')\n",
    "\n",
    "BATCH_SIZE = 32\n",
    "\n",
    "train_iterator, valid_iterator, test_iterator = data.BucketIterator.splits(\n",
    "    (train_data, valid_data, test_data),\n",
    "    sort_key=lambda x: x.text,  # sort by text\n",
    "    batch_size=BATCH_SIZE,\n",
    "    device=device)\n"
   ]
  },
  {
   "cell_type": "code",
   "execution_count": 10,
   "metadata": {},
   "outputs": [],
   "source": [
    "# model\n",
    "class RNN(nn.Module):\n",
    "    def __init__(self, input_dim, embedding_dim, hidden_dim, output_dim):\n",
    "       \n",
    "        super().__init__()\n",
    "        self.embedding = nn.Embedding(input_dim, embedding_dim)\n",
    "        self.rnn = nn.RNN(embedding_dim, hidden_dim)\n",
    "        self.fc = nn.Linear(hidden_dim, output_dim)\n",
    "       \n",
    "    def forward(self, text):\n",
    "\n",
    "        # text = [sent len, batch size]\n",
    "        embedded = self.embedding(text)\n",
    "        # embedded = [sent len, batch size, emb dim]\n",
    "        output, hidden = self.rnn(embedded)\n",
    "        # output = [sent len, batch size, hid dim]\n",
    "        # hidden = [1, batch size, hid dim]\n",
    "        assert torch.equal(output[-1, :, :], hidden.squeeze(0))\n",
    "\n",
    "        return self.fc(hidden.squeeze(0)), hidden\n"
   ]
  },
  {
   "cell_type": "code",
   "execution_count": 11,
   "metadata": {},
   "outputs": [
    {
     "name": "stdout",
     "output_type": "stream",
     "text": [
      "The model has 322,755 trainable parameters\n",
      "torch.Size([10002, 25])\n"
     ]
    },
    {
     "data": {
      "text/plain": [
       "tensor([[ 0.5606, -1.0126,  1.9641,  ..., -1.8165, -0.0659, -0.3598],\n",
       "        [-0.0970,  2.2441, -0.7800,  ..., -0.8058, -0.5770, -0.3308],\n",
       "        [ 0.6959, -1.1469, -0.4180,  ..., -0.6788,  0.7061,  0.4083],\n",
       "        ...,\n",
       "        [ 0.2451, -0.0642,  0.0951,  ..., -0.6760, -0.2469,  0.5264],\n",
       "        [-0.0924,  0.8841,  0.5136,  ...,  0.6143,  0.3683, -0.8380],\n",
       "        [ 0.4758, -0.6784,  0.1332,  ...,  0.7920,  0.4695,  0.1066]])"
      ]
     },
     "execution_count": 11,
     "metadata": {},
     "output_type": "execute_result"
    }
   ],
   "source": [
    "INPUT_DIM = len(TEXT.vocab)\n",
    "# EMBEDDING_DIM = 100\n",
    "EMBEDDING_DIM = 25\n",
    "HIDDEN_DIM = 256\n",
    "OUTPUT_DIM = 1\n",
    "\n",
    "model = RNN(INPUT_DIM, EMBEDDING_DIM, HIDDEN_DIM, OUTPUT_DIM)\n",
    "\n",
    "def count_parameters(model):\n",
    "    return sum(p.numel() for p in model.parameters() if p.requires_grad)\n",
    "\n",
    "print(f'The model has {count_parameters(model):,} trainable parameters')\n",
    "\n",
    "# copy pretrained into embedding layer\n",
    "\n",
    "pretrained_embeddings = TEXT.vocab.vectors\n",
    "print(pretrained_embeddings.shape)\n",
    "model.embedding.weight.data.copy_(pretrained_embeddings)\n"
   ]
  },
  {
   "cell_type": "code",
   "execution_count": 12,
   "metadata": {},
   "outputs": [],
   "source": [
    "import torch.optim as optim\n",
    "\n",
    "#try learning rates 1e-2, 1e-3, 1e-4,1e-5 via Experiments\n",
    "if len (sys.argv) == 2:\n",
    "  if sys.argv[1].split(sep='=')[0]=='learning_rate' and isinstance(float(sys.argv[1].split(sep='=')[1]), float):\n",
    "    learning_rate = float(sys.argv[1].split(sep='=')[1])\n",
    "  else:\n",
    "    sys.exit(\"Invalid Arguments passed to Experiment\")\n",
    "else:\n",
    "    learning_rate = 1e-3\n",
    "\n",
    "optimizer = optim.Adam(model.parameters(), lr=learning_rate)\n",
    "criterion = nn.BCEWithLogitsLoss()\n",
    "model = model.to(device)\n",
    "criterion = criterion.to(device)\n",
    "\n",
    "def binary_accuracy(preds, y):\n",
    "    \"\"\"\n",
    "    Returns accuracy per batch, i.e. if you get 8/10 right, this returns 0.8, NOT 8\n",
    "    \"\"\"\n",
    "\n",
    "    #round predictions to the closest integer\n",
    "    rounded_preds = torch.round(torch.sigmoid(preds))\n",
    "    correct = (rounded_preds == y).float() #convert into float for division \n",
    "    acc = correct.sum() / len(correct)\n",
    "    return acc\n",
    "\n",
    "def train(model, iterator, optimizer, criterion):\n",
    "    \n",
    "    epoch_loss = 0\n",
    "    epoch_acc = 0\n",
    "    \n",
    "    model.train()\n",
    "    \n",
    "    for batch in iterator:\n",
    "        \n",
    "        optimizer.zero_grad()\n",
    "        #predictions = model(batch.text).squeeze(1)\n",
    "        predictions, _ = model(batch.text)\n",
    "        predictions = predictions.squeeze(1)\n",
    "        loss = criterion(predictions, batch.label)\n",
    "        acc = binary_accuracy(predictions, batch.label)\n",
    "        loss.backward()\n",
    "        optimizer.step()\n",
    "        \n",
    "        epoch_loss += loss.item()\n",
    "        epoch_acc += acc.item()\n",
    "        \n",
    "    return epoch_loss / len(iterator), epoch_acc / len(iterator)\n",
    "\n",
    "\n",
    "def evaluate(model, iterator, criterion):\n",
    "\n",
    "    epoch_loss = 0\n",
    "    epoch_acc = 0\n",
    "   \n",
    "    model.eval()\n",
    "   \n",
    "    with torch.no_grad():\n",
    "   \n",
    "        for batch in iterator:\n",
    "\n",
    "            #predictions = model(batch.text).squeeze(1)\n",
    "            predictions, _ = model(batch.text)\n",
    "            predictions = predictions.squeeze(1)\n",
    "            loss = criterion(predictions, batch.label)\n",
    "            acc = binary_accuracy(predictions, batch.label)\n",
    "            epoch_loss += loss.item()\n",
    "            epoch_acc += acc.item()\n",
    "        \n",
    "    return epoch_loss / len(iterator), epoch_acc / len(iterator)\n",
    "\n",
    "import time\n",
    "\n",
    "def epoch_time(start_time, end_time):\n",
    "    elapsed_time = end_time - start_time\n",
    "    elapsed_mins = int(elapsed_time / 60)\n",
    "    elapsed_secs = int(elapsed_time - (elapsed_mins * 60))\n",
    "    return elapsed_mins, elapsed_secs\n"
   ]
  },
  {
   "cell_type": "code",
   "execution_count": 13,
   "metadata": {},
   "outputs": [
    {
     "name": "stdout",
     "output_type": "stream",
     "text": [
      "Epoch: 01 | Epoch Time: 0m 12s\n",
      "\tTrain Loss: 0.518 | Train Acc: 78.73%\n",
      "\t Val. Loss: 0.506 |  Val. Acc: 79.89%\n",
      "Epoch: 02 | Epoch Time: 0m 12s\n",
      "\tTrain Loss: 0.514 | Train Acc: 79.36%\n",
      "\t Val. Loss: 0.504 |  Val. Acc: 80.06%\n",
      "Epoch: 03 | Epoch Time: 0m 12s\n",
      "\tTrain Loss: 0.512 | Train Acc: 79.38%\n",
      "\t Val. Loss: 0.505 |  Val. Acc: 80.11%\n",
      "Epoch: 04 | Epoch Time: 0m 12s\n",
      "\tTrain Loss: 0.515 | Train Acc: 79.36%\n",
      "\t Val. Loss: 0.500 |  Val. Acc: 80.11%\n",
      "Epoch: 05 | Epoch Time: 0m 12s\n",
      "\tTrain Loss: 0.512 | Train Acc: 79.46%\n",
      "\t Val. Loss: 0.498 |  Val. Acc: 80.11%\n",
      "Test Loss: 0.505 | Test Acc: 79.68%\n"
     ]
    }
   ],
   "source": [
    "N_EPOCHS = 5\n",
    "\n",
    "best_valid_loss = float('inf')\n",
    "\n",
    "for epoch in range(N_EPOCHS):\n",
    "\n",
    "    start_time = time.time()\n",
    "    \n",
    "    train_loss, train_acc = train(model, train_iterator, optimizer, criterion)\n",
    "    valid_loss, valid_acc = evaluate(model, valid_iterator, criterion)\n",
    "    \n",
    "    end_time = time.time()\n",
    "\n",
    "    epoch_mins, epoch_secs = epoch_time(start_time, end_time)\n",
    "    \n",
    "    if valid_loss < best_valid_loss:\n",
    "        best_valid_loss = valid_loss\n",
    "        torch.save(model.state_dict(), model_dir+'/rnn_binary_pretrain_model.pt')\n",
    "    \n",
    "    print(f'Epoch: {epoch+1:02} | Epoch Time: {epoch_mins}m {epoch_secs}s')\n",
    "    print(f'\\tTrain Loss: {train_loss:.3f} | Train Acc: {train_acc*100:.2f}%')\n",
    "    print(f'\\t Val. Loss: {valid_loss:.3f} |  Val. Acc: {valid_acc*100:.2f}%')\n",
    "\n",
    "cdsw.track_file(model_dir+'/rnn_binary_pretrain_model.pt')\n",
    "\n",
    "model.load_state_dict(torch.load(model_dir+'/rnn_binary_pretrain_model.pt'))\n",
    "\n",
    "test_loss, test_acc = evaluate(model, test_iterator, criterion)\n",
    "\n",
    "print(f'Test Loss: {test_loss:.3f} | Test Acc: {test_acc*100:.2f}%')\n",
    "cdsw.track_metric(\"Test Accuracy\",round(train_acc, 2))"
   ]
  },
  {
   "cell_type": "code",
   "execution_count": null,
   "metadata": {},
   "outputs": [],
   "source": []
  }
 ],
 "metadata": {
  "kernelspec": {
   "display_name": "Python 3",
   "language": "python",
   "name": "python3"
  },
  "language_info": {
   "codemirror_mode": {
    "name": "ipython",
    "version": 3
   },
   "file_extension": ".py",
   "mimetype": "text/x-python",
   "name": "python",
   "nbconvert_exporter": "python",
   "pygments_lexer": "ipython3",
   "version": "3.6.9"
  }
 },
 "nbformat": 4,
 "nbformat_minor": 2
}
