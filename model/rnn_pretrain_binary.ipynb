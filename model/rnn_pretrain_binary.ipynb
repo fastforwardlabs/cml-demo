{
 "cells": [
  {
   "cell_type": "markdown",
   "metadata": {},
   "source": [
    "Notebook to build a baseline model to perform binary class sentiment analysis. Model uses pretrained glove twitter embeddings. "
   ]
  },
  {
   "cell_type": "code",
   "execution_count": 7,
   "metadata": {},
   "outputs": [],
   "source": [
    "'''\n",
    "Binary classifier\n",
    "Reworked from examples here to play with torchtext\n",
    "https://github.com/bentrevett/pytorch-sentiment-analysis\n",
    "'''\n",
    "\n",
    "import pandas as pd\n",
    "import torch\n",
    "import torch.nn as nn\n",
    "import pickle\n",
    "import sys\n",
    "import cdsw\n",
    "\n",
    "from torchtext import data\n",
    "from sklearn.model_selection import train_test_split\n",
    "\n",
    "data_dir = '/home/cdsw/data/'\n",
    "model_dir = '/home/cdsw/model/'\n",
    "\n",
    "sentiments = pd.read_csv(data_dir+'/Tweets.csv')"
   ]
  },
  {
   "cell_type": "markdown",
   "metadata": {},
   "source": [
    "Cleaning and processing data. Remove null text and only use tweet, airline, label (positive and negative only) and tweet id to build a binary classifier. Split dataset into train, test, validation"
   ]
  },
  {
   "cell_type": "code",
   "execution_count": 8,
   "metadata": {},
   "outputs": [],
   "source": [
    "clean_df = sentiments[sentiments['text'].notnull() &\n",
    "                      sentiments['airline'].notnull() &\n",
    "                      sentiments['airline_sentiment'].notnull() &\n",
    "                      sentiments['tweet_id'].notnull()]\n",
    "# use only tweet(text), airline, label (airline_sentiment) and tweet id\n",
    "final_df = clean_df.filter(['tweet_id', 'text', 'airline',\n",
    "                           'airline_sentiment'], axis=1)\n",
    "# use only positive and negative sentiment\n",
    "row_vals = ['positive', 'negative']\n",
    "final_df = final_df.loc[final_df['airline_sentiment'].isin(row_vals)]\n",
    "# split into train, test, val (.7, .15, .15)\n",
    "train_df, testval_df = train_test_split(final_df, test_size=0.3)\n",
    "test_df, val_df = train_test_split(testval_df, test_size=0.5)"
   ]
  },
  {
   "cell_type": "markdown",
   "metadata": {},
   "source": [
    "Convert dataframes back to csv so we can load into Torchtext easily"
   ]
  },
  {
   "cell_type": "code",
   "execution_count": 9,
   "metadata": {},
   "outputs": [],
   "source": [
    "# convert df back to csv, with column names\n",
    "train_df.to_csv(data_dir+'/train.csv', index=False)\n",
    "test_df.to_csv(data_dir+'/test.csv', index=False)\n",
    "val_df.to_csv(data_dir+'/val.csv', index=False)\n",
    "\n",
    "# load into torchtext\n",
    "ID = data.Field()\n",
    "TEXT = data.Field(tokenize='spacy')\n",
    "SENTIMENT = data.LabelField(dtype=torch.float)\n",
    "AIRLINE = data.Field()\n",
    "\n",
    "# access using batch.id, batch.text etc\n",
    "fields = [('id', ID), ('text', TEXT), ('airline', AIRLINE), ('label', SENTIMENT)]\n",
    "train_data, valid_data, test_data = data.TabularDataset.splits(path=data_dir,\n",
    "                                                               train='train.csv',\n",
    "                                                               validation='val.csv',\n",
    "                                                               test='test.csv',\n",
    "                                                               format='csv',\n",
    "                                                               fields=fields,\n",
    "                                                               skip_header=True)"
   ]
  },
  {
   "cell_type": "code",
   "execution_count": 10,
   "metadata": {
    "scrolled": true
   },
   "outputs": [
    {
     "name": "stdout",
     "output_type": "stream",
     "text": [
      "[('.', 8242), ('to', 4824), ('I', 3565), ('the', 3331), ('!', 3180), ('a', 2508), (',', 2426), ('?', 2278), ('for', 2273), ('you', 2221), ('and', 2168), ('on', 2165), ('@united', 2123), ('#', 2010), ('flight', 1899), ('my', 1811), ('@USAirways', 1764), ('@AmericanAir', 1664), ('is', 1660), ('in', 1433)]\n"
     ]
    }
   ],
   "source": [
    "# build iterators\n",
    "MAX_VOCAB_SIZE = 10_000\n",
    "\n",
    "ID.build_vocab(train_data)\n",
    "# TEXT.build_vocab(train_data, max_size=MAX_VOCAB_SIZE)\n",
    "TEXT.build_vocab(train_data,\n",
    "                 max_size=MAX_VOCAB_SIZE,\n",
    "                 vectors=\"glove.twitter.27B.25d\",\n",
    "                 unk_init=torch.Tensor.normal_)\n",
    "SENTIMENT.build_vocab(train_data)\n",
    "AIRLINE.build_vocab(train_data)\n",
    "\n",
    "print(TEXT.vocab.freqs.most_common(20))"
   ]
  },
  {
   "cell_type": "code",
   "execution_count": 11,
   "metadata": {},
   "outputs": [],
   "source": [
    "# save this - need for model prediction\n",
    "outfile = open(model_dir+'vocab_index.pkl', 'wb')\n",
    "pickle.dump(TEXT.vocab.stoi, outfile, -1)\n",
    "outfile.close()\n",
    "cdsw.track_file(model_dir+'vocab_index.pkl')\n",
    "\n",
    "\n"
   ]
  },
  {
   "cell_type": "markdown",
   "metadata": {},
   "source": [
    "Make data iterators so we can load batches properly"
   ]
  },
  {
   "cell_type": "code",
   "execution_count": 12,
   "metadata": {},
   "outputs": [],
   "source": [
    "device = torch.device('cuda' if torch.cuda.is_available() else 'cpu')\n",
    "BATCH_SIZE = 32\n",
    "\n",
    "train_iterator, valid_iterator, test_iterator = data.BucketIterator.splits(\n",
    "    (train_data, valid_data, test_data),\n",
    "    sort_key=lambda x: x.text,  # sort by text\n",
    "    batch_size=BATCH_SIZE,\n",
    "    device=device)\n"
   ]
  },
  {
   "cell_type": "markdown",
   "metadata": {},
   "source": [
    "Simple RNN model "
   ]
  },
  {
   "cell_type": "code",
   "execution_count": 13,
   "metadata": {},
   "outputs": [],
   "source": [
    "# model\n",
    "class RNN(nn.Module):\n",
    "    def __init__(self, input_dim, embedding_dim, hidden_dim, output_dim):\n",
    "       \n",
    "        super().__init__()\n",
    "        self.embedding = nn.Embedding(input_dim, embedding_dim)\n",
    "        self.rnn = nn.RNN(embedding_dim, hidden_dim)\n",
    "        self.fc = nn.Linear(hidden_dim, output_dim)\n",
    "       \n",
    "    def forward(self, text):\n",
    "\n",
    "        # text = [sent len, batch size]\n",
    "        embedded = self.embedding(text)\n",
    "        # embedded = [sent len, batch size, emb dim]\n",
    "        output, hidden = self.rnn(embedded)\n",
    "        # output = [sent len, batch size, hid dim]\n",
    "        # hidden = [1, batch size, hid dim]\n",
    "        assert torch.equal(output[-1, :, :], hidden.squeeze(0))\n",
    "\n",
    "        return self.fc(hidden.squeeze(0)), hidden\n"
   ]
  },
  {
   "cell_type": "markdown",
   "metadata": {},
   "source": [
    "Set model parameters and instantiate the RNN. The input dimension is the length of the vocabulary (10,000), the embedding dimension is the length of the glove pretrained vector (25). The hidden dimension is the size of the hidden layer, the output dimension is 1."
   ]
  },
  {
   "cell_type": "code",
   "execution_count": 14,
   "metadata": {},
   "outputs": [],
   "source": [
    "INPUT_DIM = len(TEXT.vocab)\n",
    "# EMBEDDING_DIM = 100\n",
    "EMBEDDING_DIM = 25\n",
    "HIDDEN_DIM = 256\n",
    "OUTPUT_DIM = 1\n",
    "\n",
    "model = RNN(INPUT_DIM, EMBEDDING_DIM, HIDDEN_DIM, OUTPUT_DIM)\n"
   ]
  },
  {
   "cell_type": "markdown",
   "metadata": {},
   "source": [
    "Copy pretrained vector into the embedding layer"
   ]
  },
  {
   "cell_type": "code",
   "execution_count": 15,
   "metadata": {},
   "outputs": [
    {
     "name": "stdout",
     "output_type": "stream",
     "text": [
      "torch.Size([10002, 25])\n"
     ]
    },
    {
     "data": {
      "text/plain": [
       "tensor([[-0.9478, -0.0396,  1.3068,  ..., -0.7689,  1.0423, -0.2073],\n",
       "        [ 1.4988, -0.7483,  1.4023,  ...,  1.2016,  1.0595, -0.2819],\n",
       "        [ 0.6959, -1.1469, -0.4180,  ..., -0.6788,  0.7061,  0.4083],\n",
       "        ...,\n",
       "        [-0.7117,  0.9787, -1.3894,  ..., -0.1596, -0.3692, -1.5047],\n",
       "        [ 0.4335, -0.3376,  0.9851,  ...,  0.8399,  0.4945, -2.1360],\n",
       "        [-0.0537,  2.0860,  0.6671,  ...,  0.9416, -0.4243, -1.3101]])"
      ]
     },
     "execution_count": 15,
     "metadata": {},
     "output_type": "execute_result"
    }
   ],
   "source": [
    "pretrained_embeddings = TEXT.vocab.vectors\n",
    "print(pretrained_embeddings.shape)\n",
    "model.embedding.weight.data.copy_(pretrained_embeddings)\n"
   ]
  },
  {
   "cell_type": "markdown",
   "metadata": {},
   "source": [
    "Define training and evaluation functions. "
   ]
  },
  {
   "cell_type": "code",
   "execution_count": 16,
   "metadata": {},
   "outputs": [],
   "source": [
    "import torch.optim as optim\n",
    "\n",
    "\n",
    "\n",
    "def train(model, iterator, optimizer, criterion):\n",
    "    \n",
    "    epoch_loss = 0\n",
    "    epoch_acc = 0\n",
    "    \n",
    "    model.train()\n",
    "    \n",
    "    for batch in iterator:\n",
    "        \n",
    "        optimizer.zero_grad()\n",
    "        #predictions = model(batch.text).squeeze(1)\n",
    "        predictions, _ = model(batch.text)\n",
    "        predictions = predictions.squeeze(1)\n",
    "        loss = criterion(predictions, batch.label)\n",
    "        acc = binary_accuracy(predictions, batch.label)\n",
    "        loss.backward()\n",
    "        optimizer.step()\n",
    "        \n",
    "        epoch_loss += loss.item()\n",
    "        epoch_acc += acc.item()\n",
    "        \n",
    "    return epoch_loss / len(iterator), epoch_acc / len(iterator)\n",
    "\n",
    "def evaluate(model, iterator, criterion):\n",
    "\n",
    "    epoch_loss = 0\n",
    "    epoch_acc = 0\n",
    "   \n",
    "    model.eval()\n",
    "   \n",
    "    with torch.no_grad():\n",
    "   \n",
    "        for batch in iterator:\n",
    "\n",
    "            #predictions = model(batch.text).squeeze(1)\n",
    "            predictions, _ = model(batch.text)\n",
    "            predictions = predictions.squeeze(1)\n",
    "            loss = criterion(predictions, batch.label)\n",
    "            acc = binary_accuracy(predictions, batch.label)\n",
    "            epoch_loss += loss.item()\n",
    "            epoch_acc += acc.item()\n",
    "        \n",
    "    return epoch_loss / len(iterator), epoch_acc / len(iterator)"
   ]
  },
  {
   "cell_type": "markdown",
   "metadata": {},
   "source": [
    "Define helper functions"
   ]
  },
  {
   "cell_type": "code",
   "execution_count": 17,
   "metadata": {},
   "outputs": [],
   "source": [
    "import time\n",
    "\n",
    "def epoch_time(start_time, end_time):\n",
    "    elapsed_time = end_time - start_time\n",
    "    elapsed_mins = int(elapsed_time / 60)\n",
    "    elapsed_secs = int(elapsed_time - (elapsed_mins * 60))\n",
    "    return elapsed_mins, elapsed_secs\n",
    "\n",
    "def binary_accuracy(preds, y):\n",
    "    \"\"\"\n",
    "    Returns accuracy per batch, i.e. if you get 8/10 right, this returns 0.8, NOT 8\n",
    "    \"\"\"\n",
    "\n",
    "    #round predictions to the closest integer\n",
    "    rounded_preds = torch.round(torch.sigmoid(preds))\n",
    "    correct = (rounded_preds == y).float() #convert into float for division \n",
    "    acc = correct.sum() / len(correct)\n",
    "    return acc"
   ]
  },
  {
   "cell_type": "markdown",
   "metadata": {},
   "source": [
    "Set optimizer and training criterion for training."
   ]
  },
  {
   "cell_type": "code",
   "execution_count": 18,
   "metadata": {},
   "outputs": [
    {
     "name": "stdout",
     "output_type": "stream",
     "text": [
      "Epoch: 01 | Epoch Time: 0m 12s\n",
      "\tTrain Loss: 0.514 | Train Acc: 78.98%\n",
      "\t Val. Loss: 0.514 |  Val. Acc: 79.38%\n",
      "Epoch: 02 | Epoch Time: 0m 12s\n",
      "\tTrain Loss: 0.514 | Train Acc: 79.44%\n",
      "\t Val. Loss: 0.521 |  Val. Acc: 79.38%\n",
      "Epoch: 03 | Epoch Time: 0m 12s\n",
      "\tTrain Loss: 0.515 | Train Acc: 79.37%\n",
      "\t Val. Loss: 0.511 |  Val. Acc: 79.20%\n",
      "Epoch: 04 | Epoch Time: 0m 12s\n",
      "\tTrain Loss: 0.515 | Train Acc: 79.36%\n",
      "\t Val. Loss: 0.510 |  Val. Acc: 79.26%\n",
      "Epoch: 05 | Epoch Time: 0m 12s\n",
      "\tTrain Loss: 0.512 | Train Acc: 79.39%\n",
      "\t Val. Loss: 0.509 |  Val. Acc: 79.32%\n",
      "Test Loss: 0.496 | Test Acc: 80.25%\n"
     ]
    }
   ],
   "source": [
    "\n",
    "learning_rate = 1e-3\n",
    "optimizer = optim.Adam(model.parameters(), lr=learning_rate)\n",
    "criterion = nn.BCEWithLogitsLoss()\n",
    "model = model.to(device)\n",
    "criterion = criterion.to(device)\n",
    "N_EPOCHS = 5\n",
    "\n",
    "best_valid_loss = float('inf')\n",
    "\n",
    "for epoch in range(N_EPOCHS):\n",
    "\n",
    "    start_time = time.time()\n",
    "    \n",
    "    train_loss, train_acc = train(model, train_iterator, optimizer, criterion)\n",
    "    valid_loss, valid_acc = evaluate(model, valid_iterator, criterion)\n",
    "    \n",
    "    end_time = time.time()\n",
    "\n",
    "    epoch_mins, epoch_secs = epoch_time(start_time, end_time)\n",
    "    \n",
    "    if valid_loss < best_valid_loss:\n",
    "        best_valid_loss = valid_loss\n",
    "        torch.save(model.state_dict(), model_dir+'/rnn_binary_pretrain_model.pt')\n",
    "    \n",
    "    print(f'Epoch: {epoch+1:02} | Epoch Time: {epoch_mins}m {epoch_secs}s')\n",
    "    print(f'\\tTrain Loss: {train_loss:.3f} | Train Acc: {train_acc*100:.2f}%')\n",
    "    print(f'\\t Val. Loss: {valid_loss:.3f} |  Val. Acc: {valid_acc*100:.2f}%')\n",
    "    \n",
    "    \n",
    "model.load_state_dict(torch.load(model_dir+'/rnn_binary_pretrain_model.pt'))\n",
    "\n",
    "test_loss, test_acc = evaluate(model, test_iterator, criterion)\n",
    "\n",
    "print(f'Test Loss: {test_loss:.3f} | Test Acc: {test_acc*100:.2f}%')\n"
   ]
  },
  {
   "cell_type": "markdown",
   "metadata": {},
   "source": [
    "Return prediction, embedding, tweet and airline for front end using test dataset."
   ]
  },
  {
   "cell_type": "code",
   "execution_count": 19,
   "metadata": {},
   "outputs": [],
   "source": [
    "def predict_sentiment_from_dataset(model, tokenized):\n",
    "    model.eval()\n",
    "    # tokenized = [tok.text for tok in nlp.tokenizer(sentence)]\n",
    "    indexed = [TEXT.vocab.stoi[t] for t in tokenized]\n",
    "    tensor = torch.LongTensor(indexed).to(device)\n",
    "    tensor = tensor.unsqueeze(1)\n",
    "    # print(tensor)\n",
    "    sentiment, hidden = model(tensor)\n",
    "    prediction = torch.sigmoid(sentiment)\n",
    "    return prediction.item(), hidden\n",
    "\n",
    "# save for front-end application\n",
    "prediction_list = []\n",
    "embedding_list = []\n",
    "airline_list = []\n",
    "tweet_list = []\n",
    "for example in test_data:\n",
    "    text = example.text  # this is tokenized\n",
    "    airline = example.airline\n",
    "    prediction, embedding = predict_sentiment_from_dataset(model, text)\n",
    "    tweet_list.append(text)\n",
    "    prediction_list.append(prediction)\n",
    "    embedding_list.append(embedding.data.numpy().squeeze(1))\n",
    "    airline_list.append(airline)\n",
    "\n",
    "output_dict = {\"prediction\": prediction_list,\n",
    "               \"embedding\": embedding_list,\n",
    "               \"tweet\": tweet_list,\n",
    "               \"airline\": airline_list}\n",
    "outfile = open(data_dir+'frontend_data', 'wb')\n",
    "pickle.dump(output_dict, outfile, -1)\n",
    "outfile.close()"
   ]
  },
  {
   "cell_type": "code",
   "execution_count": null,
   "metadata": {},
   "outputs": [],
   "source": []
  }
 ],
 "metadata": {
  "kernelspec": {
   "display_name": "Python 3",
   "language": "python",
   "name": "python3"
  },
  "language_info": {
   "codemirror_mode": {
    "name": "ipython",
    "version": 3
   },
   "file_extension": ".py",
   "mimetype": "text/x-python",
   "name": "python",
   "nbconvert_exporter": "python",
   "pygments_lexer": "ipython3",
   "version": "3.6.8"
  }
 },
 "nbformat": 4,
 "nbformat_minor": 2
}
